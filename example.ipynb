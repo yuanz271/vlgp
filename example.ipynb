{
 "cells": [
  {
   "cell_type": "markdown",
   "metadata": {},
   "source": [
    "This notebook is to show the application of our method to three datasets. Two of them are simulated and one is from real experiments. The results are included in the manuscript. This notebook is also an example to show the usage of the code."
   ]
  },
  {
   "cell_type": "code",
   "execution_count": 41,
   "metadata": {
    "collapsed": true
   },
   "outputs": [],
   "source": [
    "%load_ext autoreload\n",
    "%autoreload 2\n",
    "%matplotlib inline\n",
    "%aimport simulation\n",
    "%aimport mathf\n",
    "%aimport util\n",
    "%aimport graph\n",
    "%aimport hyper\n",
    "%aimport vlgp"
   ]
  },
  {
   "cell_type": "code",
   "execution_count": 8,
   "metadata": {
    "collapsed": false
   },
   "outputs": [],
   "source": [
    "from os import path, getcwd, makedirs\n",
    "from datetime import datetime\n",
    "import numpy as np\n",
    "from scipy import stats\n",
    "from scipy import linalg\n",
    "from sklearn.decomposition.factor_analysis import FactorAnalysis\n",
    "from scipy.io import loadmat, savemat\n",
    "from sklearn.decomposition import PCA\n",
    "import statsmodels.api as sm\n",
    "from statsmodels.tsa.tsatools import lagmat, lagmat2ds\n",
    "import pandas as pd\n",
    "from scipy.linalg import orth\n",
    "from numpy.linalg import norm\n",
    "from numpy import dstack, rollaxis\n",
    "\n",
    "import simulation, util, graph, hyper, vlgp\n",
    "from mathf import ichol_gauss, subspace\n",
    "from util import rad2deg, rotate, add_constant"
   ]
  },
  {
   "cell_type": "code",
   "execution_count": 45,
   "metadata": {
    "collapsed": false
   },
   "outputs": [],
   "source": [
    "# plot setting\n",
    "import matplotlib as mpl\n",
    "import matplotlib.pyplot as plt\n",
    "from matplotlib.lines import Line2D\n",
    "import seaborn as sns\n",
    "c0 = list(mpl.rcParams['axes.prop_cycle'])[0]['color']\n",
    "c1 = list(mpl.rcParams['axes.prop_cycle'])[1]['color']\n",
    "c2 = list(mpl.rcParams['axes.prop_cycle'])[2]['color']"
   ]
  },
  {
   "cell_type": "markdown",
   "metadata": {},
   "source": [
    "The following code creates the directories in the current working directory if they do not exist. The directory 'sample' contains the data to be analyzed, 'output' stores the fit and prediction, and the generated plots are put in 'figure'."
   ]
  },
  {
   "cell_type": "code",
   "execution_count": 16,
   "metadata": {
    "collapsed": false
   },
   "outputs": [],
   "source": [
    "if not path.exists('sample'):\n",
    "    makedirs('sample')\n",
    "if not path.exists('output'):\n",
    "    makedirs('output')\n",
    "if not path.exists('figure'):\n",
    "    makedirs('figure')\n",
    "samplepath = path.abspath('sample')\n",
    "outputpath = path.abspath('output')\n",
    "figurepath = path.abspath('figure')"
   ]
  },
  {
   "cell_type": "markdown",
   "metadata": {},
   "source": [
    "# Lorenz latent"
   ]
  },
  {
   "cell_type": "markdown",
   "metadata": {},
   "source": [
    "In this section we apply the model to the samples of spike trains driven by Lorenz dynamics. We totally simulate 5 samples. Each sample consists of spike trians of 50 neurons over 1000ms which are driven by a 3-dimensional latent dynamics. "
   ]
  },
  {
   "cell_type": "code",
   "execution_count": 17,
   "metadata": {
    "collapsed": true
   },
   "outputs": [],
   "source": [
    "# dimensions\n",
    "nsample = 5\n",
    "ntrial = 10\n",
    "ntime = 1000\n",
    "nspike = 50\n",
    "nlatent = 3"
   ]
  },
  {
   "cell_type": "markdown",
   "metadata": {},
   "source": [
    "The Lorenz dynamics is defined by the following differential equations.\n",
    "\\begin{align} \n",
    "      x_1' &= \\sigma(x_2 - x_1) \\\\\n",
    "      x_2' &= x_1(\\rho - x_3) - x_2 \\\\\n",
    "      x_3' &= x_1 x_2 - \\beta x_3\n",
    "\\end{align}\n",
    "The discrete latent dynamics are sampled with the time step of 0.0015. We discard the first 2000 points to get stable result."
   ]
  },
  {
   "cell_type": "code",
   "execution_count": 18,
   "metadata": {
    "collapsed": true
   },
   "outputs": [],
   "source": [
    "# Lorenz\n",
    "np.random.seed(0)\n",
    "skip = 2000\n",
    "lorenz = simulation.lorenz(skip + nsample * ntrial * ntime, dt=1.5e-3, x0=np.random.random(3) * 2)\n",
    "lorenz = (lorenz - lorenz.mean(axis=0)) / norm(lorenz, axis=0, ord=np.inf)\n",
    "x = lorenz[skip:, :].reshape((nsample, ntrial, ntime, -1))"
   ]
  },
  {
   "cell_type": "markdown",
   "metadata": {},
   "source": [
    "The spike trains are simulated with 10ms history filter given the above latent. The elements of loading matrix is randomly generated from (1, 2) with random signs. The history filter decays in time. The bias of firing rate is 15Hz."
   ]
  },
  {
   "cell_type": "code",
   "execution_count": 22,
   "metadata": {
    "collapsed": false
   },
   "outputs": [],
   "source": [
    "np.random.seed(0)\n",
    "low = np.log(15 / ntime)\n",
    "aspk = np.sort((np.random.rand(nlatent, nspike) + 1) * np.sign(np.random.randn(nlatent, nspike)), axis=1)\n",
    "bspk = np.vstack((low * np.ones(nspike), -10 * np.ones(nspike), -10 * np.ones(nspike), -3 * np.ones(nspike), \n",
    "                  -3 * np.ones(nspike), -3 * np.ones(nspike), -3 * np.ones(nspike), -2 * np.ones(nspike),\n",
    "                  -2 * np.ones(nspike), -1 * np.ones(nspike), -1 * np.ones(nspike)))\n",
    "\n",
    "y = np.empty((nsample, ntrial, ntime, nspike))  # spike trains\n",
    "rate = np.empty_like(y, dtype=float)  # firing rates\n",
    "lorenz = [] # Lorenz samples\n",
    "florenz = [] # filenames of Lorenz samples\n",
    "for i in range(nsample):\n",
    "    y[i, :], _, rate[i, :] = simulation.spike(x[i, :], aspk, bspk)\n",
    "    # print('mean firing rate per neuron', y.mean(axis=(0, 1)) * 1000)\n",
    "    lorenz.append({'y': y[i, :], 'rate': rate[i, :], 'x': x[i, :], 'alpha': aspk, 'beta':bspk})\n",
    "    fname = path.join(samplepath, 'lorenz_{}'.format(i + 1))\n",
    "    florenz.append(fname)\n",
    "    savemat(fname, lorenz[i])"
   ]
  },
  {
   "cell_type": "markdown",
   "metadata": {},
   "source": [
    "Load the simulation and fit models. "
   ]
  },
  {
   "cell_type": "code",
   "execution_count": 23,
   "metadata": {
    "collapsed": true
   },
   "outputs": [],
   "source": [
    "florenz = [path.join(samplepath, 'lorenz_{}'.format(i + 1)) for i in range(nsample)]\n",
    "for i, fname in enumerate(florenz):\n",
    "    print('Sample {}'.format(i + 1))\n",
    "    sigma = np.full(nlatent, fill_value=1.0)\n",
    "    omega = np.full(nlatent, fill_value=1e-5)\n",
    "    sample = loadmat(fname, squeeze_me=True)\n",
    "    result = vlgp.fit(sample['y'], ['spike'] * sample['y'].shape[-1], sigma, omega, x=sample['x'], \n",
    "                                   alpha=sample['alpha'], beta=sample['beta'], lag=10, rank=100, \n",
    "                                   niter=100, tol=1e-5, verbose=False, learn_omega=True)\n",
    "    savemat(path.join(outputpath, '{}_vLGP'.format(path.basename(fname))), result)\n",
    "print('Done.')"
   ]
  },
  {
   "cell_type": "markdown",
   "metadata": {},
   "source": [
    "Load results. The fits of PLDS and GPFA should be put in the output path before loading."
   ]
  },
  {
   "cell_type": "code",
   "execution_count": 36,
   "metadata": {
    "collapsed": true
   },
   "outputs": [],
   "source": [
    "# Collect results\n",
    "lorenz_vLGP = []\n",
    "for i, fname in enumerate(florenz):\n",
    "    lorenz_vLGP.append(loadmat(path.join(outputpath, '{}_vLGP'.format(path.basename(fname))), squeeze_me=True))\n",
    "    \n",
    "lorenz_GPFA = []\n",
    "for i, fname in enumerate(florenz):\n",
    "    lorenz_GPFA.append(loadmat(path.join(outputpath, '{}_GPFA'.format(path.basename(fname))), squeeze_me=True))\n",
    "\n",
    "lorenz_PLDS = []\n",
    "for i, fname in enumerate(florenz):\n",
    "    lorenz_PLDS.append(loadmat(path.join(outputpath, '{}_PLDS'.format(path.basename(fname))), squeeze_me=True))"
   ]
  },
  {
   "cell_type": "markdown",
   "metadata": {},
   "source": [
    "Angle between subspaces of latent vs time"
   ]
  },
  {
   "cell_type": "code",
   "execution_count": 47,
   "metadata": {
    "collapsed": false
   },
   "outputs": [
    {
     "data": {
      "image/png": "[encoded data removed]",
      "text/plain": [
       "<matplotlib.figure.Figure at 0x1739d9c50>"
      ]
     },
     "metadata": {},
     "output_type": "display_data"
    }
   ],
   "source": [
    "sns.set_style(\"white\")\n",
    "for i in range(nsample):\n",
    "    lorenz_PLDS[i]['Time'][0] = 1\n",
    "    lorenz_GPFA[i]['iterTime'][0] = 1\n",
    "    lorenz_vLGP[i]['Elapsed'][0, :] = 1\n",
    "    plt.semilogx(np.cumsum(lorenz_PLDS[i]['Time']), rad2deg(lorenz_PLDS[i]['latentAngle'][1:]), color=c0);\n",
    "    plt.semilogx(np.cumsum(lorenz_GPFA[i]['iterTime']), rad2deg(lorenz_GPFA[i]['latentAngle']), color=c1);\n",
    "    plt.semilogx(np.cumsum(lorenz_vLGP[i]['Elapsed'][:,2]), rad2deg(lorenz_vLGP[i]['LatentAngle']), color=c2);\n",
    "plt.xlabel('log(time)');\n",
    "plt.ylabel('Angle (deg)');\n",
    "sns.despine(top=True, right=True)\n",
    "# plt.title('Subspace angle of the latent dynamics');\n",
    "plt.ylim([0, 90]);\n",
    "PLDSline = Line2D((0, 0), (1, 1), color=c0);\n",
    "GPFAline = Line2D((0, 0), (1, 1), color=c1);\n",
    "vLGPline = Line2D((0, 0), (1, 1), color=c2);\n",
    "plt.legend(handles=[PLDSline, GPFAline, vLGPline], labels=['PLDS', 'GPFA', 'vLGP'], loc='lower right');\n",
    "plt.tight_layout()\n",
    "\n",
    "# for i in range(nsample):\n",
    "#     lorenz_PLDS[i]['Time'][0] = 1\n",
    "#     lorenz_GPFA[i]['iterTime'][0] = 1\n",
    "#     lorenz_vLGP[i]['Elapsed'][0, :] = 1\n",
    "#     plt.semilogx(np.cumsum(lorenz_PLDS[i]['Time']), rad2deg(lorenz_PLDS[i]['loadingAngle']), color=c0);\n",
    "#     plt.semilogx(np.cumsum(lorenz_GPFA[i]['iterTime']), rad2deg(lorenz_GPFA[i]['loadingAngle']), color=c1);\n",
    "#     plt.semilogx(np.cumsum(lorenz_vLGP[i]['Elapsed'][:,2]), rad2deg(lorenz_vLGP[i]['LoadingAngle']), color=c2);\n",
    "# plt.xlabel('log(time)');\n",
    "# plt.ylabel('angle');\n",
    "# plt.title('Subspace angle of the loading matrix');\n",
    "# plt.legend(handles=[PLDSline, GPFAline, vLGPline], labels=['PLDS', 'GPFA', 'Proposed'], bbox_to_anchor=(1.1, -0.1));"
   ]
  },
  {
   "cell_type": "markdown",
   "metadata": {},
   "source": [
    "We use a leave-one-neuron-out prediction likelihood to compare models.\n",
    "We choose one of the trials as test trial and the others as training trials.\n",
    "First, the weights and posterior are inferred from the training trials.\n",
    "Next, we leave one neuron out of the test trial and make inference on the posterior of the test trial given the rest neurons and the weights estimated from the training trials.\n",
    "Then the firing rates of the very neuron are predicted by the model given the weights from the training trials and the posterior inferred from the rest of neurons in the test trial.\n",
    "We do this procedure on each neuron of one trial and each trial of the sample.\n",
    "Finally we obtain the prediction of all neurons at all time bins of the sample."
   ]
  },
  {
   "cell_type": "code",
   "execution_count": null,
   "metadata": {
    "collapsed": true
   },
   "outputs": [],
   "source": [
    "# CV\n",
    "for i, fname in enumerate(florenz):\n",
    "    print('Sample {}'.format(i + 1))\n",
    "    sigma = np.full(nlatent, fill_value=1.0)\n",
    "    omega = Lorenz_vLGP[i]['omega']\n",
    "    sample = loadmat(fname, squeeze_me=True)\n",
    "    result = vlgp.cv(sample['y'], ['spike'] * sample['y'].shape[-1], sigma, omega, lag=10, rank=100, \n",
    "                                   niter=100, tol=1e-5, learn_omega=True)\n",
    "    savemat(path.join(outputpath, '{}_vLGP_pred'.format(path.basename(fname))), result)\n",
    "print('Done.')"
   ]
  },
  {
   "cell_type": "code",
   "execution_count": 48,
   "metadata": {
    "collapsed": true
   },
   "outputs": [],
   "source": [
    "# load CV prediction\n",
    "lorenz_vLGP_cv = [loadmat('{}/lorenz_{}_vLGP_pred'.format(outputpath, i + 1), squeeze_me=True) for i in range(nsample)]\n",
    "lorenz_PLDS_cv = [loadmat('{}/lorenz_{}_PLDS_pred'.format(outputpath, i + 1), squeeze_me=True) for i in range(nsample)]\n",
    "lorenz_GPFA_cv = [loadmat('{}/lorenz_{}_GPFA_pred'.format(outputpath, i + 1), squeeze_me=True) for i in range(nsample)]"
   ]
  },
  {
   "cell_type": "code",
   "execution_count": 49,
   "metadata": {
    "collapsed": true
   },
   "outputs": [],
   "source": [
    "# Log-likelihood\n",
    "LL = np.zeros((nsample, ntrial, 3))\n",
    "y = np.zeros((nsample, ntrial, ntime, nspike), dtype=float)\n",
    "for i in range(nsample):\n",
    "    LL[i, :, 2] = np.nansum(stats.poisson.logpmf(lorenz_vLGP_cv[i]['y'], lorenz_vLGP_cv[i]['yhat']), axis=(1, 2))\n",
    "    LL[i, :, 1] = np.nansum(stats.poisson.logpmf(lorenz_vLGP_cv[i]['y'], lorenz_GPFA_cv[i]['yhat']**2), axis=(1, 2))\n",
    "    LL[i, :, 0] = np.nansum(stats.poisson.logpmf(lorenz_vLGP_cv[i]['y'], lorenz_PLDS_cv[i]['yhat']), axis=(1, 2))\n",
    "    y[i, :] = lorenz_vLGP_cv[i]['y']\n",
    "nullyhat = np.repeat(y.mean(axis=2), ntime, axis=2).reshape((nsample, ntrial, ntime, nspike))\n",
    "nullLL = np.nansum(stats.poisson.logpmf(y, nullyhat), axis=(2, 3))"
   ]
  },
  {
   "cell_type": "code",
   "execution_count": 50,
   "metadata": {
    "collapsed": false
   },
   "outputs": [
    {
     "name": "stderr",
     "output_type": "stream",
     "text": [
      "/Users/yuan/anaconda/lib/python3.5/site-packages/matplotlib/__init__.py:872: UserWarning: axes.color_cycle is deprecated and replaced with axes.prop_cycle; please use the latter.\n",
      "  warnings.warn(self.msg_depr % (key, alt_key))\n"
     ]
    },
    {
     "data": {
      "image/png": "[encoded data removed]",
      "text/plain": [
       "<matplotlib.figure.Figure at 0x10ca953c8>"
      ]
     },
     "metadata": {},
     "output_type": "display_data"
    }
   ],
   "source": [
    "plt.plot((LL[:, :, 0].ravel() - nullLL.ravel()) / ntime / np.log(2), (LL[:, :, 2].ravel() - nullLL.ravel()) / ntime / np.log(2), ls='', marker='o');\n",
    "sns.despine(right=True, top=True)\n",
    "# plt.axes().set_aspect('equal', 'datalim');\n",
    "plt.xlabel('PLDS');\n",
    "plt.ylabel('vLGP');\n",
    "plt.xlim([0, 1.6]);\n",
    "plt.ylim([0, 1.6]);\n",
    "plt.title('Lorenz LL');\n",
    "# plt.legend(loc='upper right');\n",
    "plt.tight_layout();"
   ]
  },
  {
   "cell_type": "markdown",
   "metadata": {},
   "source": [
    "# LDS latent"
   ]
  },
  {
   "cell_type": "markdown",
   "metadata": {},
   "source": [
    "The second dataset uses 3-dimensional linear dynamical system as log firing rate. The system is defined as\n",
    "\\begin{align}\n",
    "    y_{t,n} \\mid \\mathbf{x}_t &\\sim Poisson(\\ln(1 + \\exp(\\mathbf{c}_n^\\top \\mathbf{x}_t + \\mathbf{d}_n)) \\\\\n",
    "    \\mathbf{x}_0 &\\sim \\mathcal{N}(\\boldsymbol{\\mu}_0, Q_0) \\\\\n",
    "    \\mathbf{x}_{t+1} \\mid \\mathbf{x}_t &\\sim \\mathcal{N}(A \\mathbf{x}_t + \\mathbf{b}_t, Q)\n",
    "\\end{align}"
   ]
  },
  {
   "cell_type": "code",
   "execution_count": null,
   "metadata": {
    "collapsed": true
   },
   "outputs": [],
   "source": [
    "# dimensions\n",
    "nsample = 5\n",
    "ntrial = 10\n",
    "ntime = 1000\n",
    "nspike = 50\n",
    "nlatent = 3"
   ]
  },
  {
   "cell_type": "code",
   "execution_count": null,
   "metadata": {
    "collapsed": true
   },
   "outputs": [],
   "source": [
    "# load sample\n",
    "fplds = ['{}/PLDS_{}'.format(samplepath, i + 1) for i in range(nsample)]\n",
    "PLDSSample = []\n",
    "for i, fname in enumerate(fPLDSSample):\n",
    "    mat = loadmat(fname, squeeze_me=True)\n",
    "    PLDSSample.append(mat)"
   ]
  },
  {
   "cell_type": "code",
   "execution_count": null,
   "metadata": {
    "collapsed": true
   },
   "outputs": [],
   "source": [
    "# fit\n",
    "for i, sample in enumerate(PLDSSample):\n",
    "    print('Sample {}'.format(i + 1))\n",
    "    sigma = np.full(nlatent, fill_value=1.0)\n",
    "    omega = np.full(nlatent, fill_value=1e-5)\n",
    "    result = vlgp.fit(sample['y'], ['spike'] * sample['y'].shape[-1], sigma, omega, x=sample['x'], \n",
    "                                   alpha=sample['alpha'], beta=sample['beta'], lag=0, rank=100, \n",
    "                                   niter=100, tol=1e-5, verbose=False, learn_omega=True)\n",
    "    savemat('{}/PLDS_{}_vLGP'.format(outputpath, i + 1), result)\n",
    "print('Done.')"
   ]
  },
  {
   "cell_type": "code",
   "execution_count": null,
   "metadata": {
    "collapsed": true
   },
   "outputs": [],
   "source": [
    "# angle\n",
    "for i in range(nsample):\n",
    "    PLDS_PLDS[i]['Time'][0] = 1\n",
    "    PLDS_GPFA[i]['iterTime'][0] = 1\n",
    "    PLDS_vLGP[i]['Elapsed'][0, :] = 1\n",
    "    plt.semilogx(np.cumsum(PLDS_PLDS[i]['Time']), rad2deg(PLDS_PLDS[i]['latentAngle']), color=c0);\n",
    "    plt.semilogx(np.cumsum(PLDS_GPFA[i]['iterTime']), rad2deg(PLDS_GPFA[i]['latentAngle']), color=c1);\n",
    "    plt.semilogx(np.cumsum(PLDS_vLGP[i]['Elapsed'][:,2]), rad2deg(PLDS_vLGP[i]['LatentAngle']), color=c2);\n",
    "plt.xlabel('log(time)');\n",
    "plt.ylabel('Angle (deg)');\n",
    "sns.despine(top=True, right=True)\n",
    "# plt.title('Subspace angle of the latent dynamics');\n",
    "plt.ylim([0, 90]);\n",
    "PLDSline = Line2D((0, 0), (1, 1), color=c0);\n",
    "GPFAline = Line2D((0, 0), (1, 1), color=c1);\n",
    "vLGPline = Line2D((0, 0), (1, 1), color=c2);\n",
    "plt.legend(handles=[PLDSline, GPFAline, vLGPline], labels=['PLDS', 'GPFA', 'vLGP'], loc='lower right', bbox_to_anchor=(1.05, -0.1));\n",
    "plt.tight_layout()\n"
   ]
  },
  {
   "cell_type": "code",
   "execution_count": null,
   "metadata": {
    "collapsed": true
   },
   "outputs": [],
   "source": [
    "# cv\n",
    "for i, sample in enumerate(PLDSSample):\n",
    "    print('Sample {}'.format(i + 1))\n",
    "    sigma = np.full(nlatent, fill_value=1.0)\n",
    "    omega = PLDS_vLGP[i]['omega']\n",
    "    result = vlgp.cv(sample['y'], ['spike'] * sample['y'].shape[-1], sigma, omega, lag=0, rank=100, \n",
    "                                   niter=100, tol=1e-5, learn_omega=True)\n",
    "    savemat('{}/PLDS_{}_vLGP_pred'.format(outputpath, i + 1), result)\n",
    "print('Done.')"
   ]
  },
  {
   "cell_type": "code",
   "execution_count": null,
   "metadata": {
    "collapsed": true
   },
   "outputs": [],
   "source": [
    "PLDSCV_vLGP = [loadmat('{}/PLDS_{}_vLGP_pred'.format(outputpath, i + 1), squeeze_me=True) for i in range(nsample)]\n",
    "PLDSCV_PLDS = [loadmat('{}/PLDS_{}_PLDS_pred'.format(outputpath, i + 1), squeeze_me=True) for i in range(nsample)]\n",
    "PLDSCV_GPFA = [loadmat('{}/PLDS_{}_GPFA_pred'.format(outputpath, i + 1), squeeze_me=True) for i in range(nsample)]"
   ]
  },
  {
   "cell_type": "code",
   "execution_count": null,
   "metadata": {
    "collapsed": true
   },
   "outputs": [],
   "source": [
    "LL = np.zeros((nsample, ntrial, 3))\n",
    "\n",
    "for i in range(5):\n",
    "    LL[i, :, 0] = np.nansum(stats.poisson.logpmf(PLDSCV_vLGP[i]['y'], PLDSCV_PLDS[i]['yhat']), axis=(1, 2))\n",
    "    LL[i, :, 2] = np.nansum(stats.poisson.logpmf(PLDSCV_vLGP[i]['y'], PLDSCV_vLGP[i]['yhat']), axis=(1, 2))\n",
    "    LL[i, :, 1] = np.nansum(stats.poisson.logpmf(PLDSCV_vLGP[i]['y'], PLDSCV_GPFA[i]['yhat']**2), axis=(1, 2))"
   ]
  },
  {
   "cell_type": "code",
   "execution_count": null,
   "metadata": {
    "collapsed": true
   },
   "outputs": [],
   "source": [
    "LL = np.zeros((nsample, ntrial, 3))\n",
    "y = np.zeros((nsample, ntrial, ntime, nspike), dtype=float)\n",
    "for i in range(nsample):\n",
    "    LL[i, :, 2] = np.nansum(stats.poisson.logpmf(PLDSCV_vLGP[i]['y'], PLDSCV_vLGP[i]['yhat']), axis=(1, 2))\n",
    "    LL[i, :, 1] = np.nansum(stats.poisson.logpmf(PLDSCV_vLGP[i]['y'], PLDSCV_GPFA[i]['yhat']**2), axis=(1, 2))\n",
    "    LL[i, :, 0] = np.nansum(stats.poisson.logpmf(PLDSCV_vLGP[i]['y'], PLDSCV_PLDS[i]['yhat']), axis=(1, 2))\n",
    "    y[i, :] = PLDSCV_vLGP[i]['y']\n",
    "nullyhat = np.repeat(y.mean(axis=2), ntime, axis=2).reshape((nsample, ntrial, ntime, nspike))\n",
    "nullLL = np.nansum(stats.poisson.logpmf(y, nullyhat), axis=(2, 3))\n",
    "plt.figure(figsize=(4, 3));\n",
    "for i in range(nsample):\n",
    "    plt.plot(np.arange(ntrial) + 1, (LL[i, :, 0] - nullLL[i, :]) / ntime / np.log(2), ls='', marker='o', color=c0, label='PLDS');\n",
    "    plt.plot(np.arange(ntrial) + 1, (LL[i, :, 1] - nullLL[i, :]) / ntime / np.log(2), ls='', marker='o', color=c1, label='GPFA');\n",
    "    plt.plot(np.arange(ntrial) + 1, (LL[i, :, 2] - nullLL[i, :]) / ntime / np.log(2), ls='', marker='o', color=c2, label='vLGP');\n",
    "sns.despine(right=True, top=True)\n",
    "plt.xlim([0, 11]);\n",
    "plt.xlabel('Trial');\n",
    "plt.title('PLDS LL');\n",
    "# plt.legend(loc='upper right');\n",
    "plt.tight_layout();\n"
   ]
  },
  {
   "cell_type": "code",
   "execution_count": null,
   "metadata": {
    "collapsed": true
   },
   "outputs": [],
   "source": [
    "plt.plot((LL[:, :, 0].ravel() - nullLL.ravel()) / ntime / np.log(2), (LL[:, :, 2].ravel() - nullLL.ravel()) / ntime / np.log(2), ls='', marker='o');\n",
    "sns.despine(right=True, top=True)\n",
    "# plt.axes().set_aspect('equal', 'datalim');\n",
    "plt.xlabel('PLDS');\n",
    "plt.ylabel('vLGP');\n",
    "plt.xlim([0, 3]);\n",
    "plt.ylim([0, 3]);\n",
    "plt.title('PLDS LL');\n",
    "# plt.legend(loc='upper right');\n",
    "plt.tight_layout();"
   ]
  },
  {
   "cell_type": "markdown",
   "metadata": {},
   "source": [
    "# Graf's data"
   ]
  },
  {
   "cell_type": "code",
   "execution_count": 51,
   "metadata": {
    "collapsed": true
   },
   "outputs": [],
   "source": [
    "graf = loadmat(path.join(samplepath, 'Graf'), squeeze_me=True)"
   ]
  },
  {
   "cell_type": "code",
   "execution_count": null,
   "metadata": {
    "collapsed": true
   },
   "outputs": [],
   "source": []
  }
 ],
 "metadata": {
  "kernelspec": {
   "display_name": "Python 3",
   "language": "python",
   "name": "python3"
  },
  "language_info": {
   "codemirror_mode": {
    "name": "ipython",
    "version": 3
   },
   "file_extension": ".py",
   "mimetype": "text/x-python",
   "name": "python",
   "nbconvert_exporter": "python",
   "pygments_lexer": "ipython3",
   "version": "3.5.1"
  }
 },
 "nbformat": 4,
 "nbformat_minor": 0
}
