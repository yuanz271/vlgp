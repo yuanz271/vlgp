{
 "cells": [
  {
   "cell_type": "code",
   "execution_count": 1,
   "metadata": {
    "collapsed": true
   },
   "outputs": [],
   "source": [
    "%load_ext autoreload\n",
    "%autoreload 2\n",
    "%matplotlib inline\n",
    "%aimport simulation\n",
    "%aimport mathf\n",
    "%aimport util\n",
    "%aimport graph\n",
    "%aimport hyper\n",
    "%aimport vlgp"
   ]
  },
  {
   "cell_type": "code",
   "execution_count": 2,
   "metadata": {
    "collapsed": true
   },
   "outputs": [],
   "source": [
    "import os.path\n",
    "from datetime import datetime\n",
    "import numpy as np\n",
    "from scipy import stats\n",
    "from scipy import linalg\n",
    "from sklearn.decomposition.factor_analysis import FactorAnalysis\n",
    "from scipy.io import loadmat, savemat\n",
    "from sklearn.decomposition import PCA\n",
    "import statsmodels.api as sm\n",
    "from statsmodels.tsa.tsatools import lagmat, lagmat2ds\n",
    "import pandas as pd\n",
    "from scipy.linalg import orth\n",
    "from numpy.linalg import norm\n",
    "from numpy import dstack, rollaxis\n",
    "\n",
    "import simulation, util, graph, hyper, vlgp\n",
    "from mathf import ichol_gauss, subspace\n",
    "from util import rad2deg, rotate, add_constant"
   ]
  },
  {
   "cell_type": "code",
   "execution_count": 4,
   "metadata": {
    "collapsed": false
   },
   "outputs": [],
   "source": [
    "# plot setting\n",
    "import matplotlib as mpl\n",
    "import matplotlib.pyplot as plt\n",
    "import seaborn as sns"
   ]
  },
  {
   "cell_type": "code",
   "execution_count": null,
   "metadata": {
    "collapsed": true
   },
   "outputs": [],
   "source": [
    "samplepath = os.path.expanduser(\"sample\")\n",
    "outputpath = os.path.expanduser(\"~/data/output\")\n",
    "figurepath = os.path.expanduser(\"~/variational-doc/figure\")"
   ]
  }
 ],
 "metadata": {
  "kernelspec": {
   "display_name": "Python 3",
   "language": "python",
   "name": "python3"
  },
  "language_info": {
   "codemirror_mode": {
    "name": "ipython",
    "version": 3
   },
   "file_extension": ".py",
   "mimetype": "text/x-python",
   "name": "python",
   "nbconvert_exporter": "python",
   "pygments_lexer": "ipython3",
   "version": "3.5.1"
  }
 },
 "nbformat": 4,
 "nbformat_minor": 0
}
