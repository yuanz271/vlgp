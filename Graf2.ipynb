{
 "cells": [
  {
   "cell_type": "code",
   "execution_count": 1,
   "metadata": {
    "collapsed": false
   },
   "outputs": [],
   "source": [
    "%load_ext autoreload\n",
    "%autoreload 2\n",
    "%matplotlib inline\n",
    "%aimport simulation\n",
    "%aimport mathf\n",
    "%aimport util\n",
    "%aimport graph\n",
    "%aimport hyper\n",
    "%aimport vlgp"
   ]
  },
  {
   "cell_type": "code",
   "execution_count": 2,
   "metadata": {
    "collapsed": false,
    "scrolled": false
   },
   "outputs": [],
   "source": [
    "import os.path as op\n",
    "import numpy as np\n",
    "import scipy as sp\n",
    "from scipy.special import expit\n",
    "from scipy import stats\n",
    "from scipy import linalg\n",
    "from scipy.io import loadmat, savemat\n",
    "from scipy.linalg import orth, svd\n",
    "from numpy.linalg import norm\n",
    "from numpy import dstack, rollaxis\n",
    "from sklearn.decomposition.factor_analysis import FactorAnalysis\n",
    "import h5py\n",
    "import pickle\n",
    "\n",
    "import simulation, util, graph, hyper, vlgp\n",
    "from mathf import ichol_gauss, subspace\n",
    "from util import rad2deg, rotate, add_constant\n",
    "\n",
    "# plot setting\n",
    "import matplotlib as mpl\n",
    "import matplotlib.pyplot as plt\n",
    "import matplotlib.lines as mlines\n",
    "from matplotlib.lines import Line2D\n",
    "from matplotlib import colors\n",
    "from matplotlib import gridspec\n",
    "from matplotlib import cm\n",
    "from mpl_toolkits.mplot3d import Axes3D\n",
    "from IPython.display import set_matplotlib_formats\n",
    "import seaborn as sns"
   ]
  },
  {
   "cell_type": "code",
   "execution_count": 3,
   "metadata": {
    "collapsed": false
   },
   "outputs": [],
   "source": [
    "# Setup graphics\n",
    "sns.set(font_scale=1.5)\n",
    "sns.set_style(\"white\")\n",
    "samplepath = op.expanduser(\"~/data/sample\")\n",
    "outputpath = op.expanduser(\"~/data/output\")\n",
    "figurepath = op.expanduser(\"~/data/figure\")"
   ]
  },
  {
   "cell_type": "code",
   "execution_count": 4,
   "metadata": {
    "collapsed": false
   },
   "outputs": [],
   "source": [
    "# Graf_5 = loadmat(op.join(samplepath, 'Graf_5.mat'), squeeze_me=True)\n",
    "Graf_5 = h5py.File(op.join(samplepath, 'Graf_5.mat'), 'r')"
   ]
  },
  {
   "cell_type": "code",
   "execution_count": 5,
   "metadata": {
    "collapsed": false
   },
   "outputs": [
    {
     "data": {
      "text/plain": [
       "((3600, 1), (148, 2560, 3600))"
      ]
     },
     "execution_count": 5,
     "metadata": {},
     "output_type": "execute_result"
    }
   ],
   "source": [
    "Graf_5['ori'].shape, Graf_5['y'].shape"
   ]
  },
  {
   "cell_type": "code",
   "execution_count": 24,
   "metadata": {
    "collapsed": false
   },
   "outputs": [],
   "source": [
    "orient = np.squeeze(np.array(Graf_5['ori']))\n",
    "unique_ori = np.unique(orient)\n",
    "y = np.array(Graf_5['y'])\n",
    "# transpose y (into trial, time, neuron)\n",
    "y = np.transpose(y, axes=(2, 1, 0))"
   ]
  },
  {
   "cell_type": "code",
   "execution_count": 7,
   "metadata": {
    "collapsed": false
   },
   "outputs": [],
   "source": [
    "# extract trials orienting at 0 and 90 deg\n",
    "y0 = y[ori == 0, :, :]\n",
    "y90 = y[ori == 90, :, :]"
   ]
  },
  {
   "cell_type": "code",
   "execution_count": 8,
   "metadata": {
    "collapsed": false
   },
   "outputs": [],
   "source": [
    "# combine trials of 0 and 90 deg\n",
    "y4fit = np.concatenate((y0, y90), axis=0)"
   ]
  },
  {
   "cell_type": "code",
   "execution_count": 9,
   "metadata": {
    "collapsed": false
   },
   "outputs": [
    {
     "name": "stdout",
     "output_type": "stream",
     "text": [
      "[ 0.00016897  0.00021241  0.000177    0.00013326]\n"
     ]
    }
   ],
   "source": [
    "# load previous hyperparameter\n",
    "vLGP_4D = loadmat(op.join(outputpath, 'Graf_vLGP_4D.mat'), squeeze_me=True)['Graf_vLGP_4D']\n",
    "omega = vLGP_4D['omega'].tolist()\n",
    "print(omega)"
   ]
  },
  {
   "cell_type": "code",
   "execution_count": null,
   "metadata": {
    "collapsed": false,
    "scrolled": true
   },
   "outputs": [
    {
     "name": "stdout",
     "output_type": "stream",
     "text": [
      "\n",
      "Inference starts\n",
      "\n",
      "[1]\n",
      "sigma: [ 1.  1.  1.  1.]\n",
      "Elapsed Post: 23.263530244119465\n",
      "Elapsed Param: 292.4820277253166\n",
      "omega: [ 0.00016897  0.00021241  0.000177    0.00013326]\n",
      "Elapsed Total: 322.16897252667695\n",
      "LL: -23464815.71787972\n",
      "ELBO: -23508529.48818931\n",
      "\n",
      "[2]\n",
      "sigma: [ 1.  1.  1.  1.]\n",
      "Elapsed Post: 23.27285592444241\n",
      "Elapsed Param: 288.15161112044007\n",
      "omega: [ 0.00016897  0.00021241  0.000177    0.00013326]\n",
      "Elapsed Total: 317.8201730372384\n",
      "LL: -16871467.01073946\n",
      "ELBO: -16908830.987579733\n",
      "\n",
      "[3]\n",
      "sigma: [ 1.  1.  1.  1.]\n",
      "Elapsed Post: 23.37835439760238\n",
      "Elapsed Param: 287.8290144549683\n",
      "omega: [ 0.00016897  0.00021241  0.000177    0.00013326]\n",
      "Elapsed Total: 317.65139962825924\n",
      "LL: -13251757.330350766\n",
      "ELBO: -13286984.166380893\n",
      "\n",
      "[4]\n",
      "sigma: [ 1.  1.  1.  1.]\n",
      "Elapsed Post: 23.35961125511676\n",
      "Elapsed Param: 286.48789832461625\n",
      "omega: [ 0.00016897  0.00021241  0.000177    0.00013326]\n",
      "Elapsed Total: 316.0092331795022\n",
      "LL: -10979191.099678019\n",
      "ELBO: -11011972.918580063\n",
      "\n",
      "[5]\n",
      "sigma: [ 1.  1.  1.  1.]\n",
      "Elapsed Post: 23.307243708521128\n",
      "Elapsed Param: 286.19824314210564\n",
      "omega: [ 0.00016897  0.00021241  0.000177    0.00013326]\n",
      "Elapsed Total: 315.9016181519255\n",
      "LL: -9426292.93070296\n",
      "ELBO: -9457510.688511478\n",
      "\n",
      "[6]\n",
      "sigma: [ 1.  1.  1.  1.]\n",
      "Elapsed Post: 23.304195133969188\n",
      "Elapsed Param: 282.30864565446973\n",
      "omega: [ 0.00016897  0.00021241  0.000177    0.00013326]\n",
      "Elapsed Total: 311.8896106891334\n",
      "LL: -8301441.180641465\n",
      "ELBO: -8331808.998012108\n",
      "\n",
      "[7]\n",
      "sigma: [ 1.  1.  1.  1.]\n",
      "Elapsed Post: 23.49232453480363\n",
      "Elapsed Param: 281.1752502191812\n",
      "omega: [ 0.00016897  0.00021241  0.000177    0.00013326]\n",
      "Elapsed Total: 311.3010713206604\n",
      "LL: -7450971.87972629\n",
      "ELBO: -7480340.327027449\n",
      "\n",
      "[8]\n",
      "sigma: [ 1.  1.  1.  1.]\n",
      "Elapsed Post: 23.44857710879296\n",
      "Elapsed Param: 284.27932780236006\n",
      "omega: [ 0.00016897  0.00021241  0.000177    0.00013326]\n",
      "Elapsed Total: 314.12585373129696\n",
      "LL: -6786400.730206634\n",
      "ELBO: -6814684.2417737\n",
      "\n",
      "[9]\n",
      "sigma: [ 1.  1.  1.  1.]\n",
      "Elapsed Post: 23.269565709866583\n",
      "Elapsed Param: 282.78685113880783\n",
      "omega: [ 0.00016897  0.00021241  0.000177    0.00013326]\n",
      "Elapsed Total: 312.45227185823023\n",
      "LL: -6253309.960792456\n",
      "ELBO: -6280580.048690628\n",
      "\n",
      "[10]\n",
      "sigma: [ 1.  1.  1.  1.]\n",
      "Elapsed Post: 23.292131674475968\n",
      "Elapsed Param: 283.7750516291708\n",
      "omega: [ 0.00016897  0.00021241  0.000177    0.00013326]\n",
      "Elapsed Total: 313.4696333101019\n",
      "LL: -5816350.361237474\n",
      "ELBO: -5842743.97290955\n",
      "\n",
      "[11]\n",
      "sigma: [ 1.  1.  1.  1.]\n",
      "Elapsed Post: 23.374390656128526\n",
      "Elapsed Param: 283.7870904561132\n",
      "omega: [ 0.00016897  0.00021241  0.000177    0.00013326]\n",
      "Elapsed Total: 313.58046567440033\n",
      "LL: -5451860.784143149\n",
      "ELBO: -5477772.645585151\n",
      "\n",
      "[12]\n",
      "sigma: [ 1.  1.  1.  1.]\n",
      "Elapsed Post: 23.294952671043575\n",
      "Elapsed Param: 283.6181798912585\n",
      "omega: [ 0.00016897  0.00021241  0.000177    0.00013326]\n",
      "Elapsed Total: 313.2808124870062\n",
      "LL: -5143231.0104856705\n",
      "ELBO: -5168986.392874097\n",
      "\n",
      "[13]\n",
      "sigma: [ 1.  1.  1.  1.]\n",
      "Elapsed Post: 23.26267298310995\n",
      "Elapsed Param: 282.5682267230004\n",
      "omega: [ 0.00016897  0.00021241  0.000177    0.00013326]\n",
      "Elapsed Total: 312.21799600031227\n",
      "LL: -4879070.219921716\n",
      "ELBO: -4904227.182835269\n",
      "\n",
      "[14]\n",
      "sigma: [ 1.  1.  1.  1.]\n",
      "Elapsed Post: 22.98024541232735\n",
      "Elapsed Param: 282.6984485210851\n",
      "omega: [ 0.00016897  0.00021241  0.000177    0.00013326]\n",
      "Elapsed Total: 312.071681085974\n",
      "LL: -4650632.351314269\n",
      "ELBO: -4675311.073644558\n",
      "\n",
      "[15]\n",
      "sigma: [ 1.  1.  1.  1.]\n",
      "Elapsed Post: 23.2395987091586\n",
      "Elapsed Param: 282.1231643585488\n",
      "omega: [ 0.00016897  0.00021241  0.000177    0.00013326]\n",
      "Elapsed Total: 311.73772569559515\n",
      "LL: -4451258.116235724\n",
      "ELBO: -4475671.621520308\n",
      "\n",
      "[16]\n",
      "sigma: [ 1.  1.  1.  1.]\n",
      "Elapsed Post: 23.031695613637567\n",
      "Elapsed Param: 282.6134268986061\n",
      "omega: [ 0.00016897  0.00021241  0.000177    0.00013326]\n",
      "Elapsed Total: 312.04334975220263\n",
      "LL: -4275916.57271902\n",
      "ELBO: -4299934.174645052\n",
      "\n",
      "[17]\n",
      "sigma: [ 1.  1.  1.  1.]\n",
      "Elapsed Post: 23.249504105187953\n",
      "Elapsed Param: 282.42616410460323\n",
      "omega: [ 0.00016897  0.00021241  0.000177    0.00013326]\n",
      "Elapsed Total: 311.7955004507676\n",
      "LL: -4120596.004080919\n",
      "ELBO: -4144100.794261567\n",
      "\n",
      "[18]\n",
      "sigma: [ 1.  1.  1.  1.]\n",
      "Elapsed Post: 23.333654241636395\n",
      "Elapsed Param: 282.8993456931785\n",
      "omega: [ 0.00016897  0.00021241  0.000177    0.00013326]\n",
      "Elapsed Total: 312.61753283347934\n",
      "LL: -3982094.3811771036\n",
      "ELBO: -4005243.6250443654\n",
      "\n",
      "[19]\n",
      "sigma: [ 1.  1.  1.  1.]\n",
      "Elapsed Post: 23.310571251437068\n",
      "Elapsed Param: 284.7970832781866\n",
      "omega: [ 0.00016897  0.00021241  0.000177    0.00013326]\n",
      "Elapsed Total: 314.50944966170937\n",
      "LL: -3857895.781303783\n",
      "ELBO: -3880753.3246008367\n",
      "\n",
      "[20]\n",
      "sigma: [ 1.  1.  1.  1.]\n",
      "Elapsed Post: 23.254572042264044\n",
      "Elapsed Param: 282.02117371559143\n",
      "omega: [ 0.00016897  0.00021241  0.000177    0.00013326]\n",
      "Elapsed Total: 311.64615847729146\n",
      "LL: -3745920.263008146\n",
      "ELBO: -3768427.058206968\n",
      "\n",
      "[21]\n",
      "sigma: [ 1.  1.  1.  1.]\n",
      "Elapsed Post: 23.22874336130917\n",
      "Elapsed Param: 283.66060044709593\n",
      "omega: [ 0.00016897  0.00021241  0.000177    0.00013326]\n",
      "Elapsed Total: 313.26948314066976\n",
      "LL: -3644476.0761777298\n",
      "ELBO: -3666704.1173622604\n",
      "\n",
      "[22]\n",
      "sigma: [ 1.  1.  1.  1.]\n",
      "Elapsed Post: 23.246293557807803\n",
      "Elapsed Param: 281.17682050261647\n",
      "omega: [ 0.00016897  0.00021241  0.000177    0.00013326]\n",
      "Elapsed Total: 310.8053081203252\n",
      "LL: -3552170.828425131\n",
      "ELBO: -3574184.238084303\n",
      "\n",
      "[23]"
     ]
    }
   ],
   "source": [
    "nlatent = 4 # 4D latent\n",
    "np.random.seed(0)\n",
    "sigma = np.full(nlatent, fill_value=1.0)\n",
    "fit_0_90_4D = vlgp.fit(y4fit, ['spike'] * y4fit.shape[-1], sigma, omega, lag=2, rank=100, \n",
    "               niter=50, tol=1e-5, verbose=True, nadjhess=100, \n",
    "               nhyper=3, learn_sigma=False, learn_omega=False, adjhess=True)\n",
    "savemat(op.join(outputpath, 'Graf_5_0_90_vLGP_4D_Feb15_1'), fit_0_90_4D)"
   ]
  },
  {
   "cell_type": "code",
   "execution_count": 11,
   "metadata": {
    "collapsed": true
   },
   "outputs": [],
   "source": [
    "fit_0_90_4D = loadmat(op.join(outputpath, 'Graf_5_0_90_vLGP_4D_2'), squeeze_me=True)"
   ]
  },
  {
   "cell_type": "code",
   "execution_count": 12,
   "metadata": {
    "collapsed": false,
    "scrolled": true
   },
   "outputs": [],
   "source": [
    "np.random.seed(0)\n",
    "sigma = np.full(4, fill_value=1.0)\n",
    "for trial in range(y.shape[0]):\n",
    "    fit = vlgp.fit(y[[trial], :], ['spike'] * y.shape[-1], sigma, omega, a=fit_0_90_4D['a'], b=fit_0_90_4D['b'], \n",
    "                          lag=2, rank=100, \n",
    "               niter=50, tol=1e-5, verbose=False, nadjhess=100, infer='posterior',\n",
    "               nhyper=3, learn_sigma=False, learn_omega=False, adjhess=True)\n",
    "    with open(op.join(outputpath, 'Graf_5_vLGP_4D_t{}.dat'.format(trial + 1)), 'wb') as outfile:\n",
    "        pickle.dump(fit, outfile, protocol=pickle.HIGHEST_PROTOCOL)\n",
    "    %xdel fit"
   ]
  },
  {
   "cell_type": "code",
   "execution_count": 13,
   "metadata": {
    "collapsed": true
   },
   "outputs": [],
   "source": [
    "latent = []\n",
    "for trial in range(y.shape[0]):\n",
    "    fit = pickle.load(open(op.join(outputpath, 'Graf_5_vLGP_4D_{:d}deg.dat'.format(trial + 1)), 'rb'))\n",
    "    latent.append(fit['mu'])\n",
    "    %xdel fit"
   ]
  },
  {
   "cell_type": "code",
   "execution_count": 18,
   "metadata": {
    "collapsed": false
   },
   "outputs": [],
   "source": [
    "mu = np.concatenate(latent)"
   ]
  },
  {
   "cell_type": "code",
   "execution_count": 20,
   "metadata": {
    "collapsed": true
   },
   "outputs": [],
   "source": [
    "savemat(op.join(outputpath, 'Graf_5_vLGP_4D'), {'mu':mu})"
   ]
  },
  {
   "cell_type": "code",
   "execution_count": 21,
   "metadata": {
    "collapsed": true
   },
   "outputs": [],
   "source": [
    "with open(op.join(outputpath, 'Graf_5_vLGP_4D.dat'), 'wb') as outfile:\n",
    "    pickle.dump(mu, outfile, protocol=pickle.HIGHEST_PROTOCOL)"
   ]
  },
  {
   "cell_type": "code",
   "execution_count": 44,
   "metadata": {
    "collapsed": false
   },
   "outputs": [],
   "source": [
    "np.random.seed(0)\n",
    "sigma = np.full(4, fill_value=1.0)\n",
    "\n",
    "for ori in unique_ori:\n",
    "    fit = vlgp.fit(y[orient == ori, :], ['spike'] * y.shape[-1], sigma, omega, a=fit_0_90_4D['a'], b=fit_0_90_4D['b'], \n",
    "               lag=2, rank=100, niter=50, tol=1e-5, verbose=False, infer='posterior', \n",
    "               learning_rate=1, nhyper=3, learn_sigma=False, learn_omega=False, adjhess=True, decay=0)\n",
    "    with open(op.join(outputpath, 'Graf5_vLGP_4D_{:d}deg.dat'.format(int(ori))), 'wb') as outfile:\n",
    "        pickle.dump(fit, outfile, protocol=pickle.HIGHEST_PROTOCOL)\n",
    "    %xdel fit"
   ]
  },
  {
   "cell_type": "code",
   "execution_count": 45,
   "metadata": {
    "collapsed": false
   },
   "outputs": [
    {
     "name": "stdout",
     "output_type": "stream",
     "text": [
      "(3600, 2560, 4)\n"
     ]
    }
   ],
   "source": [
    "latent = []\n",
    "for ori in unique_ori:\n",
    "    fit = pickle.load(open(op.join(outputpath, 'Graf5_vLGP_4D_{:d}deg.dat'.format(int(ori))), 'rb'))\n",
    "    latent.append(fit['mu'])\n",
    "    %xdel fit\n",
    "mu = np.concatenate(latent)\n",
    "print(mu.shape)\n",
    "with open(op.join(outputpath, 'Graf5_vLGP_4D.dat'), 'wb') as outfile:\n",
    "    pickle.dump(mu, outfile, protocol=pickle.HIGHEST_PROTOCOL)"
   ]
  },
  {
   "cell_type": "code",
   "execution_count": 42,
   "metadata": {
    "collapsed": false,
    "scrolled": false
   },
   "outputs": [
    {
     "name": "stdout",
     "output_type": "stream",
     "text": [
      "\n",
      "Inference starts\n",
      "\n",
      "[1]\n",
      "LL: -1278697.5420241188\n",
      "Elapsed Post: 11.146120415069163\n",
      "Elapsed Total: 13.790832066908479\n",
      "sigma: [ 1.  1.  1.  1.]\n",
      "Elapsed Param: 8.642673492431641e-07\n",
      "ELBO: -1286508.3379965445\n",
      "omega: [ 0.00016897  0.00021241  0.000177    0.00013326]\n",
      "\n",
      "[2]\n",
      "LL: -1218673.60145715\n",
      "Elapsed Post: 10.596423401497304\n",
      "Elapsed Total: 13.150362971238792\n",
      "sigma: [ 1.  1.  1.  1.]\n",
      "Elapsed Param: 9.434297680854797e-07\n",
      "ELBO: -1225496.4524865125\n",
      "omega: [ 0.00016897  0.00021241  0.000177    0.00013326]\n",
      "\n",
      "[3]\n",
      "LL: -1189975.5694472913\n",
      "Elapsed Post: 10.50957282166928\n",
      "Elapsed Total: 13.067348640412092\n",
      "sigma: [ 1.  1.  1.  1.]\n",
      "Elapsed Param: 2.6794150471687317e-06\n",
      "ELBO: -1197523.622069134\n",
      "omega: [ 0.00016897  0.00021241  0.000177    0.00013326]\n",
      "\n",
      "[4]\n",
      "LL: -1175183.9995840783\n",
      "Elapsed Post: 10.431489796377718\n",
      "Elapsed Total: 13.008039047010243\n",
      "sigma: [ 1.  1.  1.  1.]\n",
      "Elapsed Param: 1.5245750546455383e-06\n",
      "ELBO: -1183925.8546089614\n",
      "omega: [ 0.00016897  0.00021241  0.000177    0.00013326]\n",
      "\n",
      "[5]\n",
      "LL: -1166747.2356194793\n",
      "Elapsed Post: 10.4188790358603\n",
      "Elapsed Total: 13.061621407046914\n",
      "sigma: [ 1.  1.  1.  1.]\n",
      "Elapsed Param: 1.5525147318840027e-06\n",
      "ELBO: -1176779.5646981425\n",
      "omega: [ 0.00016897  0.00021241  0.000177    0.00013326]\n",
      "\n",
      "[6]\n",
      "LL: -1161559.3870304597\n",
      "Elapsed Post: 10.413508588448167\n",
      "Elapsed Total: 12.95669490005821\n",
      "sigma: [ 1.  1.  1.  1.]\n",
      "Elapsed Param: 1.5674158930778503e-06\n",
      "ELBO: -1172782.6357211869\n",
      "omega: [ 0.00016897  0.00021241  0.000177    0.00013326]\n",
      "\n",
      "[7]\n",
      "LL: -1158179.1805329572\n",
      "Elapsed Post: 10.394716021604836\n",
      "Elapsed Total: 12.939228367060423\n",
      "sigma: [ 1.  1.  1.  1.]\n",
      "Elapsed Param: 1.0542571544647217e-06\n",
      "ELBO: -1170408.5083378332\n",
      "omega: [ 0.00016897  0.00021241  0.000177    0.00013326]\n",
      "\n",
      "[8]\n",
      "LL: -1155872.696430659\n",
      "Elapsed Post: 10.376983156427741\n",
      "Elapsed Total: 12.948131231591105\n",
      "sigma: [ 1.  1.  1.  1.]\n",
      "Elapsed Param: 1.921318471431732e-06\n",
      "ELBO: -1168908.9710363054\n",
      "omega: [ 0.00016897  0.00021241  0.000177    0.00013326]\n",
      "\n",
      "[9]\n",
      "LL: -1154229.4305970117\n",
      "Elapsed Post: 10.381329130381346\n",
      "Elapsed Total: 12.941038820892572\n",
      "sigma: [ 1.  1.  1.  1.]\n",
      "Elapsed Param: 1.980923116207123e-06\n",
      "ELBO: -1167906.248869573\n",
      "omega: [ 0.00016897  0.00021241  0.000177    0.00013326]\n",
      "\n",
      "[10]\n",
      "LL: -1153013.251873701\n",
      "Elapsed Post: 10.388280705548823\n",
      "Elapsed Total: 12.946129398420453\n",
      "sigma: [ 1.  1.  1.  1.]\n",
      "Elapsed Param: 3.5883858799934387e-06\n",
      "ELBO: -1167203.4610003098\n",
      "omega: [ 0.00016897  0.00021241  0.000177    0.00013326]\n",
      "\n",
      "[11]\n",
      "LL: -1152086.0261479225\n",
      "Elapsed Post: 10.39464114047587\n",
      "Elapsed Total: 12.95117132179439\n",
      "sigma: [ 1.  1.  1.  1.]\n",
      "Elapsed Param: 2.602115273475647e-06\n",
      "ELBO: -1166691.77179013\n",
      "omega: [ 0.00016897  0.00021241  0.000177    0.00013326]\n",
      "\n",
      "[12]\n",
      "LL: -1151360.1361733072\n",
      "Elapsed Post: 10.547599240206182\n",
      "Elapsed Total: 13.114405357278883\n",
      "sigma: [ 1.  1.  1.  1.]\n",
      "Elapsed Param: 1.905485987663269e-06\n",
      "ELBO: -1166307.4712588438\n",
      "omega: [ 0.00016897  0.00021241  0.000177    0.00013326]\n",
      "\n",
      "[13]\n",
      "LL: -1150779.2967845497\n",
      "Elapsed Post: 10.423624804243445\n",
      "Elapsed Total: 12.986529616639018\n",
      "sigma: [ 1.  1.  1.  1.]\n",
      "Elapsed Param: 1.6847625374794006e-06\n",
      "ELBO: -1166011.7126103174\n",
      "omega: [ 0.00016897  0.00021241  0.000177    0.00013326]\n",
      "\n",
      "[14]\n",
      "LL: -1150306.0202281878\n",
      "Elapsed Post: 10.376330622471869\n",
      "Elapsed Total: 12.957855503074825\n",
      "sigma: [ 1.  1.  1.  1.]\n",
      "Elapsed Param: 2.0498409867286682e-06\n",
      "ELBO: -1165779.6482846462\n",
      "omega: [ 0.00016897  0.00021241  0.000177    0.00013326]\n",
      "\n",
      "[15]\n",
      "LL: -1149913.9621479833\n",
      "Elapsed Post: 10.487565540708601\n",
      "Elapsed Total: 13.057551134377718\n",
      "sigma: [ 1.  1.  1.  1.]\n",
      "Elapsed Param: 8.819624781608582e-07\n",
      "ELBO: -1165594.7911624082\n",
      "omega: [ 0.00016897  0.00021241  0.000177    0.00013326]\n",
      "\n",
      "[16]\n",
      "LL: -1149584.4638228402\n",
      "Elapsed Post: 11.911111415363848\n",
      "Elapsed Total: 14.509137218818069\n",
      "sigma: [ 1.  1.  1.  1.]\n",
      "Elapsed Param: 1.4854595065116882e-06\n",
      "ELBO: -1165445.8212332663\n",
      "omega: [ 0.00016897  0.00021241  0.000177    0.00013326]\n",
      "\n",
      "[17]\n",
      "LL: -1149304.1903181043\n",
      "Elapsed Post: 10.482768525369465\n",
      "Elapsed Total: 13.04456671886146\n",
      "sigma: [ 1.  1.  1.  1.]\n",
      "Elapsed Param: 9.825453162193298e-07\n",
      "ELBO: -1165324.6817632897\n",
      "omega: [ 0.00016897  0.00021241  0.000177    0.00013326]\n",
      "\n",
      "[18]\n",
      "LL: -1149063.4291595728\n",
      "Elapsed Post: 10.345796035602689\n",
      "Elapsed Total: 12.903904049657285\n",
      "sigma: [ 1.  1.  1.  1.]\n",
      "Elapsed Param: 3.557652235031128e-06\n",
      "ELBO: -1165225.456567055\n",
      "omega: [ 0.00016897  0.00021241  0.000177    0.00013326]\n",
      "\n",
      "[19]\n",
      "LL: -1148854.9259983911\n",
      "Elapsed Post: 10.356078268028796\n",
      "Elapsed Total: 12.918917675502598\n",
      "sigma: [ 1.  1.  1.  1.]\n",
      "Elapsed Param: 1.8067657947540283e-06\n",
      "ELBO: -1165143.692426558\n",
      "omega: [ 0.00016897  0.00021241  0.000177    0.00013326]\n",
      "\n",
      "[20]\n",
      "LL: -1148673.1377142603\n",
      "Elapsed Post: 10.398908872157335\n",
      "Elapsed Total: 12.956777096726\n",
      "sigma: [ 1.  1.  1.  1.]\n",
      "Elapsed Param: 2.2761523723602295e-06\n",
      "ELBO: -1165075.9710794596\n",
      "omega: [ 0.00016897  0.00021241  0.000177    0.00013326]\n",
      "\n",
      "[21]\n",
      "LL: -1148513.7441242125\n",
      "Elapsed Post: 10.374241342768073\n",
      "Elapsed Total: 12.933452156372368\n",
      "sigma: [ 1.  1.  1.  1.]\n",
      "Elapsed Param: 2.921558916568756e-06\n",
      "ELBO: -1165019.6280315162\n",
      "omega: [ 0.00016897  0.00021241  0.000177    0.00013326]\n",
      "\n",
      "[22]\n",
      "LL: -1148373.3187559429\n",
      "Elapsed Post: 10.375155334360898\n",
      "Elapsed Total: 12.987696724943817\n",
      "sigma: [ 1.  1.  1.  1.]\n",
      "Elapsed Param: 2.8926879167556763e-06\n",
      "ELBO: -1164972.5610838714\n",
      "omega: [ 0.00016897  0.00021241  0.000177    0.00013326]\n",
      "\n",
      "[23]\n",
      "LL: -1148249.1015026276\n",
      "Elapsed Post: 10.491062190383673\n",
      "Elapsed Total: 13.097860420122743\n",
      "sigma: [ 1.  1.  1.  1.]\n",
      "Elapsed Param: 1.0086223483085632e-06\n",
      "ELBO: -1164933.0956846112\n",
      "omega: [ 0.00016897  0.00021241  0.000177    0.00013326]\n",
      "\n",
      "[24]\n",
      "LL: -1148138.8382440126\n",
      "Elapsed Post: 10.504706504754722\n",
      "Elapsed Total: 13.076851076446474\n",
      "sigma: [ 1.  1.  1.  1.]\n",
      "Elapsed Param: 2.557411789894104e-06\n",
      "ELBO: -1164899.8875650978\n",
      "omega: [ 0.00016897  0.00021241  0.000177    0.00013326]\n",
      "\n",
      "[25]\n",
      "LL: -1148040.6654129117\n",
      "Elapsed Post: 10.501691025681794\n",
      "Elapsed Total: 13.114341272041202\n",
      "sigma: [ 1.  1.  1.  1.]\n",
      "Elapsed Param: 9.397044777870178e-07\n",
      "ELBO: -1164871.8507040571\n",
      "omega: [ 0.00016897  0.00021241  0.000177    0.00013326]\n",
      "\n",
      "[26]\n",
      "LL: -1147953.025886705\n",
      "Elapsed Post: 10.52299359627068\n",
      "Elapsed Total: 13.173222011886537\n",
      "sigma: [ 1.  1.  1.  1.]\n",
      "Elapsed Param: 2.187676727771759e-06\n",
      "ELBO: -1164848.1030704596\n",
      "omega: [ 0.00016897  0.00021241  0.000177    0.00013326]\n",
      "\n",
      "[27]\n",
      "LL: -1147874.6063525216\n",
      "Elapsed Post: 10.581558438949287\n",
      "Elapsed Total: 13.19364073779434\n",
      "sigma: [ 1.  1.  1.  1.]\n",
      "Elapsed Param: 2.0032748579978943e-06\n",
      "ELBO: -1164827.9250418586\n",
      "omega: [ 0.00016897  0.00021241  0.000177    0.00013326]\n",
      "\n",
      "[28]\n",
      "LL: -1147804.2900419966\n",
      "Elapsed Post: 10.586557038128376\n",
      "Elapsed Total: 13.155151179991663\n",
      "sigma: [ 1.  1.  1.  1.]\n",
      "Elapsed Param: 9.229406714439392e-07\n",
      "ELBO: -1164810.727170958\n",
      "omega: [ 0.00016897  0.00021241  0.000177    0.00013326]\n",
      "\n",
      "[29]\n",
      "LL: -1147741.1205454865\n",
      "Elapsed Post: 10.835014885291457\n",
      "Elapsed Total: 13.407692945562303\n",
      "sigma: [ 1.  1.  1.  1.]\n",
      "Elapsed Param: 2.343207597732544e-06\n",
      "ELBO: -1164796.024929337\n",
      "omega: [ 0.00016897  0.00021241  0.000177    0.00013326]\n",
      "\n",
      "[30]\n",
      "LL: -1147684.2737671805\n",
      "Elapsed Post: 10.423407508060336\n",
      "Elapsed Total: 12.987377274781466\n",
      "sigma: [ 1.  1.  1.  1.]\n",
      "Elapsed Param: 8.987262845039368e-07\n",
      "ELBO: -1164783.4187650983\n",
      "omega: [ 0.00016897  0.00021241  0.000177    0.00013326]\n",
      "\n",
      "[31]\n",
      "LL: -1147633.0358271152\n",
      "Elapsed Post: 10.45833464898169\n",
      "Elapsed Total: 13.049126351252198\n",
      "sigma: [ 1.  1.  1.  1.]\n",
      "Elapsed Param: 1.7015263438224792e-06\n",
      "ELBO: -1164772.5782217365\n",
      "omega: [ 0.00016897  0.00021241  0.000177    0.00013326]\n",
      "\n",
      "Inference ends\n",
      "31 iterations, ELBO: -1164772.5782, elapsed: 406.43, converged: True\n",
      "\n"
     ]
    }
   ],
   "source": [
    "fit = vlgp.fit(y[orient==0, :], ['spike'] * y.shape[-1], sigma, omega, a=fit_0_90_4D['a'], b=fit_0_90_4D['b'], \n",
    "               lag=2, rank=100, niter=50, tol=1e-5, verbose=True, infer='posterior', \n",
    "               learning_rate=1, nhyper=3, learn_sigma=False, learn_omega=False, adjhess=True, decay=0)"
   ]
  },
  {
   "cell_type": "code",
   "execution_count": 43,
   "metadata": {
    "collapsed": false
   },
   "outputs": [
    {
     "data": {
      "image/png": "[encoded data removed]",
      "text/plain": [
       "<matplotlib.figure.Figure at 0x7fdae6dc8400>"
      ]
     },
     "metadata": {},
     "output_type": "display_data"
    }
   ],
   "source": [
    "plt.plot(fit['mu'].mean(axis=0));"
   ]
  },
  {
   "cell_type": "code",
   "execution_count": null,
   "metadata": {
    "collapsed": true
   },
   "outputs": [],
   "source": []
  }
 ],
 "metadata": {
  "kernelspec": {
   "display_name": "Python 3",
   "language": "python",
   "name": "python3"
  },
  "language_info": {
   "codemirror_mode": {
    "name": "ipython",
    "version": 3
   },
   "file_extension": ".py",
   "mimetype": "text/x-python",
   "name": "python",
   "nbconvert_exporter": "python",
   "pygments_lexer": "ipython3",
   "version": "3.5.1"
  }
 },
 "nbformat": 4,
 "nbformat_minor": 0
}
