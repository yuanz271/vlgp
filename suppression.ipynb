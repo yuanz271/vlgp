{
 "cells": [
  {
   "cell_type": "markdown",
   "metadata": {},
   "source": [
    "# 1-step self-suppression\n",
    "\n",
    "## Layout of beta\n",
    "\n",
    "The parameter $beta$ is a $(1 + p \\times N, N)$ matrix. Each column is a coefficient vector of one of $N$ neurons and\n",
    "each coefficient vector consists of intercept and $p$ time-steps of coefficients of $N$ neurons."
   ]
  },
  {
   "cell_type": "code",
   "execution_count": null,
   "metadata": {
    "collapsed": true
   },
   "outputs": [],
   "source": [
    "%load_ext autoreload\n",
    "%autoreload 2\n",
    "%matplotlib inline\n",
    "%aimport model \n",
    "%aimport simulation\n",
    "\n",
    "import os.path\n",
    "from datetime import datetime\n",
    "import numpy as np\n",
    "from scipy import linalg\n",
    "from pylab import *\n",
    "from matplotlib.backends.backend_pdf import PdfPages\n",
    "import h5py\n",
    "from sklearn.decomposition.factor_analysis import FactorAnalysis\n",
    "\n",
    "from model import *\n",
    "import simulation"
   ]
  },
  {
   "cell_type": "code",
   "execution_count": null,
   "metadata": {
    "collapsed": true
   },
   "outputs": [],
   "source": [
    "np.random.seed(0)\n",
    "\n",
    "T = 200\n",
    "l = 1e-4\n",
    "std = 1\n",
    "p = 1\n",
    "L = 2\n",
    "N = 20\n",
    "\n",
    "high = np.log(25 / T)\n",
    "low = np.log(5 / T)\n",
    "\n",
    "# simulate latent processes\n",
    "# x, ticks = simulation.latents(L, T, std, l)\n",
    "x = np.empty((T, L), dtype=float)\n",
    "x[:T // 2, 0] = high\n",
    "x[T // 2:, 0] = low\n",
    "x[:, 1] = 2 * np.sin(np.linspace(0, 2 * np.pi * 5, T))\n",
    "for l in range(L):\n",
    "    x[:, l] -= np.mean(x[:, l])\n",
    "\n",
    "# simulate spike trains\n",
    "# a = np.empty((L, N), dtype=float)\n",
    "a = 2 * np.random.rand(L, N) - 1\n",
    "for l in range(L):\n",
    "    a[l, :] /= linalg.norm(a[l, :]) / np.sqrt(N)\n",
    "\n",
    "b = np.empty((1 + p * N, N))  # (1 + p)N * N matrix\n",
    "b[0, :] = low\n",
    "b[1:, :] = -10 * np.identity(N)\n",
    "\n",
    "y, _, rate = simulation.spikes(x, a, b, intercept=True)\n",
    "figure()\n",
    "ylim(0, N)\n",
    "for n in range(N):\n",
    "    vlines(np.arange(T)[y[:, n] > 0], n, n + 1, color='black')\n",
    "title('{} Spike trains'.format(N))\n",
    "yticks(range(N))\n",
    "gca().invert_yaxis()"
   ]
  },
  {
   "cell_type": "code",
   "execution_count": null,
   "metadata": {
    "collapsed": true
   },
   "outputs": [],
   "source": [
    "fa = FactorAnalysis(n_components=L)\n",
    "m0 = fa.fit_transform(y)\n",
    "a0 = fa.components_\n",
    "# a0 = np.random.randn(L, N)\n",
    "m0 *= np.linalg.norm(a0) / np.sqrt(N)\n",
    "a0 /= np.linalg.norm(a0) / np.sqrt(N)\n",
    "\n",
    "mu = np.zeros_like(x)\n",
    "\n",
    "figure()\n",
    "plot(m0)\n",
    "title('Factor analysis')"
   ]
  },
  {
   "cell_type": "code",
   "execution_count": null,
   "metadata": {
    "collapsed": true
   },
   "outputs": [],
   "source": [
    "mu = np.zeros_like(x)\n",
    "var = np.empty(L, dtype=float)\n",
    "var[0] = 5\n",
    "var[1] = 5\n",
    "w = np.empty(L, dtype=float)\n",
    "w[0] = 1e-3\n",
    "w[1] = 1e-3\n",
    "\n",
    "control = {'max iteration': 100,\n",
    "           'fixed-point iteration': 3,\n",
    "           'tol': 1e-5,\n",
    "           'verbose': True}\n",
    "\n",
    "lbound, m1, V1, a1, b1, new_var, new_scale, a0, b0, elapsed, converged = train(y, 1, mu, var, w,\n",
    "                                                               a0=a0,\n",
    "                                                               b0=None,\n",
    "                                                               m0=m0,\n",
    "                                                               V0=None,\n",
    "                                                               guardV=False, guardSigma=False,\n",
    "                                                               fixalpha=False, fixbeta=False, fixpostmean=False,\n",
    "                                                               fixpostcov=False,\n",
    "                                                               normofalpha=np.sqrt(N), intercept=True,\n",
    "                                                               hyper=True,\n",
    "                                                               control=control)"
   ]
  },
  {
   "cell_type": "code",
   "execution_count": null,
   "metadata": {
    "collapsed": true
   },
   "outputs": [],
   "source": [
    "c = linalg.lstsq(m1, x)[0]\n",
    "rotated = np.dot(m1, c)\n",
    "for l in range(L):\n",
    "    figure()\n",
    "    plot(x[:, l] - np.mean(x[:, l]), label='latent', color='blue')\n",
    "    plot(rotated[:, l], label='transformed posterior', color='red')\n",
    "    title('Rotated {}'.format(l + 1))"
   ]
  }
 ],
 "metadata": {
  "kernelspec": {
   "display_name": "Python 3",
   "language": "python",
   "name": "python3"
  }
 },
 "nbformat": 4,
 "nbformat_minor": 0
}
