{
 "cells": [
  {
   "cell_type": "code",
   "execution_count": 1,
   "metadata": {
    "collapsed": true
   },
   "outputs": [],
   "source": [
    "%load_ext autoreload\n",
    "%autoreload 2\n",
    "%matplotlib inline\n",
    "%aimport simulation\n",
    "%aimport mathf\n",
    "%aimport util\n",
    "%aimport inference\n",
    "%aimport graph\n",
    "%aimport hyper\n",
    "%aimport seq"
   ]
  },
  {
   "cell_type": "code",
   "execution_count": 2,
   "metadata": {
    "collapsed": false
   },
   "outputs": [
    {
     "name": "stderr",
     "output_type": "stream",
     "text": [
      "/Users/yuan/anaconda/lib/python3.5/site-packages/matplotlib/__init__.py:872: UserWarning: axes.color_cycle is deprecated and replaced with axes.prop_cycle; please use the latter.\n",
      "  warnings.warn(self.msg_depr % (key, alt_key))\n"
     ]
    }
   ],
   "source": [
    "import os.path\n",
    "from datetime import datetime\n",
    "import numpy as np\n",
    "from scipy import stats\n",
    "from scipy import linalg\n",
    "from sklearn.decomposition.factor_analysis import FactorAnalysis\n",
    "from scipy.io import loadmat, savemat\n",
    "from sklearn.decomposition import PCA\n",
    "import statsmodels.api as sm\n",
    "from statsmodels.tsa.tsatools import lagmat, lagmat2ds\n",
    "import pandas as pd\n",
    "from scipy.linalg import orth\n",
    "from numpy.linalg import norm\n",
    "from numpy import dstack, rollaxis\n",
    "\n",
    "import simulation, util, inference, graph, hyper, seq\n",
    "from mathf import ichol_gauss, subspace\n",
    "from util import rad2deg, rotate, add_constant\n",
    "\n",
    "# plot setting\n",
    "import matplotlib as mpl\n",
    "import matplotlib.pyplot as plt\n",
    "import matplotlib.lines as mlines\n",
    "from matplotlib.lines import Line2D\n",
    "from matplotlib import colors\n",
    "from matplotlib import gridspec\n",
    "from matplotlib import cm\n",
    "from matplotlib.patches import FancyBboxPatch\n",
    "from mpl_toolkits.mplot3d import Axes3D\n",
    "from IPython.display import set_matplotlib_formats\n",
    "import seaborn as sns"
   ]
  },
  {
   "cell_type": "code",
   "execution_count": 3,
   "metadata": {
    "collapsed": true
   },
   "outputs": [],
   "source": [
    "sns.set_style(\"white\")\n",
    "samplepath = os.path.expanduser(\"~/data/sample\")\n",
    "outputpath = os.path.expanduser(\"~/data/output\")\n",
    "figurepath = os.path.expanduser(\"~/variational-doc/figure\")\n"
   ]
  },
  {
   "cell_type": "code",
   "execution_count": 37,
   "metadata": {
    "collapsed": false
   },
   "outputs": [],
   "source": [
    "Lorenz_vLGP = []\n",
    "b = np.empty((11, 50, 5))\n",
    "for i in range(5):\n",
    "    Lorenz_vLGP.append(loadmat('{}/lorenz_{}_vLGP'.format(outputpath, i + 1), squeeze_me=True))\n",
    "    b[:,:,i] = Lorenz_vLGP[i]['b']"
   ]
  },
  {
   "cell_type": "code",
   "execution_count": 8,
   "metadata": {
    "collapsed": false
   },
   "outputs": [],
   "source": [
    "beta = Lorenz_vLGP[0]['beta']"
   ]
  },
  {
   "cell_type": "code",
   "execution_count": 96,
   "metadata": {
    "collapsed": false
   },
   "outputs": [
    {
     "data": {
      "image/png": "[encoded data removed]",
      "text/plain": [
       "<matplotlib.figure.Figure at 0x122406358>"
      ]
     },
     "metadata": {},
     "output_type": "display_data"
    }
   ],
   "source": [
    "x = np.arange(11)[1:]\n",
    "y = b.mean(axis=(1,2))[1:]\n",
    "yerr = 1.96 * b.std(axis=(1,2))[1:] / np.sqrt(250)\n",
    "plt.figure(figsize=(4,3))\n",
    "plt.errorbar(x, y, yerr=yerr, linestyle='-', fmt='o', label='Estimate');\n",
    "plt.plot(x, beta[1:, 0], marker='o', color='k', label='True');\n",
    "plt.xlim([-1, 11]);\n",
    "# plt.ylim([-11, 0]);\n",
    "plt.gca().spines['right'].set_visible(False)\n",
    "plt.gca().spines['top'].set_visible(False)\n",
    "plt.xticks([0, 1, 2, 3, 4, 5, 6, 7, 8, 9, 10], ['0', '1', '2', '3', '4', '5', '6', '7', '8', '9', '10 ms']);\n",
    "plt.xlabel('lag');\n",
    "# Only show ticks on the left and bottom spines\n",
    "plt.legend(loc='lower right');\n",
    "plt.tight_layout()\n",
    "plt.savefig(os.path.join(figurepath, 'beta.pdf'))"
   ]
  },
  {
   "cell_type": "code",
   "execution_count": 97,
   "metadata": {
    "collapsed": true
   },
   "outputs": [],
   "source": [
    "LorenzCV_vLGP = [loadmat('{}/lorenz_{}_vLGP_pred'.format(outputpath, i + 1), squeeze_me=True) for i in range(5)]\n",
    "LorenzCV_PLDS = [loadmat('{}/lorenz_{}_PLDS_pred'.format(outputpath, i + 1), squeeze_me=True) for i in range(5)]\n",
    "LorenzCV_GPFA = [loadmat('{}/lorenz_{}_GPFA_pred'.format(outputpath, i + 1), squeeze_me=True) for i in range(5)]"
   ]
  },
  {
   "cell_type": "code",
   "execution_count": 101,
   "metadata": {
    "collapsed": false
   },
   "outputs": [
    {
     "name": "stderr",
     "output_type": "stream",
     "text": [
      "/Users/yuan/anaconda/lib/python3.5/site-packages/matplotlib/__init__.py:892: UserWarning: axes.color_cycle is deprecated and replaced with axes.prop_cycle; please use the latter.\n",
      "  warnings.warn(self.msg_depr % (key, alt_key))\n"
     ]
    },
    {
     "data": {
      "image/png": "[encoded data removed]",
      "text/plain": [
       "<matplotlib.figure.Figure at 0x1235d37b8>"
      ]
     },
     "metadata": {},
     "output_type": "display_data"
    }
   ],
   "source": [
    "LL = np.zeros((5, 10, 3))\n",
    "sns.set_style(\"white\")\n",
    "for i in range(5):\n",
    "    LL[i, :, 2] = np.nansum(stats.poisson.logpmf(LorenzCV_vLGP[i]['y'], LorenzCV_vLGP[i]['yhat']), axis=(1, 2))\n",
    "    LL[i, :, 1] = np.nansum(stats.poisson.logpmf(LorenzCV_vLGP[i]['y'], LorenzCV_GPFA[i]['yhat']**2), axis=(1, 2))\n",
    "    LL[i, :, 0] = np.nansum(stats.poisson.logpmf(LorenzCV_vLGP[i]['y'], LorenzCV_PLDS[i]['yhat']), axis=(1, 2))\n",
    "plt.figure(figsize=(4, 3));\n",
    "ax = sns.boxplot(data=pd.DataFrame(LL.reshape((-1, 3)), columns=['PLDS', 'GPFA', 'vLGP']), showfliers=False);\n",
    "plt.xlabel('Model');\n",
    "plt.ylabel('LL')\n",
    "plt.gca().spines['right'].set_visible(False)\n",
    "plt.gca().spines['top'].set_visible(False)\n",
    "# plt.title('Prediction Log-Likelihood');\n",
    "plt.tight_layout()\n",
    "plt.savefig(os.path.join(figurepath, 'prediction_ll_lorenz.pdf'))"
   ]
  },
  {
   "cell_type": "code",
   "execution_count": 103,
   "metadata": {
    "collapsed": true
   },
   "outputs": [],
   "source": [
    "PLDSCV_vLGP = [loadmat('{}/PLDS_{}_vLGP_pred'.format(outputpath, i + 1), squeeze_me=True) for i in range(5)]\n",
    "PLDSCV_PLDS = [loadmat('{}/PLDS_{}_PLDS_pred'.format(outputpath, i + 1), squeeze_me=True) for i in range(5)]\n",
    "PLDSCV_GPFA = [loadmat('{}/PLDS_{}_GPFA_pred'.format(outputpath, i + 1), squeeze_me=True) for i in range(5)]"
   ]
  },
  {
   "cell_type": "code",
   "execution_count": 104,
   "metadata": {
    "collapsed": false
   },
   "outputs": [
    {
     "name": "stderr",
     "output_type": "stream",
     "text": [
      "/Users/yuan/anaconda/lib/python3.5/site-packages/matplotlib/__init__.py:892: UserWarning: axes.color_cycle is deprecated and replaced with axes.prop_cycle; please use the latter.\n",
      "  warnings.warn(self.msg_depr % (key, alt_key))\n"
     ]
    },
    {
     "data": {
      "image/png": "[encoded data removed]",
      "text/plain": [
       "<matplotlib.figure.Figure at 0x1229cd358>"
      ]
     },
     "metadata": {},
     "output_type": "display_data"
    }
   ],
   "source": [
    "LL = np.zeros((5, 10, 3))\n",
    "for i in range(5):\n",
    "    LL[i, :, 0] = np.nansum(stats.poisson.logpmf(PLDSCV_vLGP[i]['y'], PLDSCV_PLDS[i]['yhat']), axis=(1, 2))\n",
    "    LL[i, :, 2] = np.nansum(stats.poisson.logpmf(PLDSCV_vLGP[i]['y'], PLDSCV_vLGP[i]['yhat']), axis=(1, 2))\n",
    "    LL[i, :, 1] = np.nansum(stats.poisson.logpmf(PLDSCV_vLGP[i]['y'], PLDSCV_GPFA[i]['yhat']**2), axis=(1, 2))\n",
    "plt.figure(figsize=(4, 3));\n",
    "ax = sns.boxplot(data=pd.DataFrame(LL.reshape((-1, 3)), columns=['PLDS', 'GPFA', 'vLGP']), showfliers=False);\n",
    "plt.gca().spines['right'].set_visible(False)\n",
    "plt.gca().spines['top'].set_visible(False)\n",
    "plt.xlabel('Model');\n",
    "plt.ylabel('LL')\n",
    "plt.tight_layout()\n",
    "# plt.title('Prediction Log-Likelihood');\n",
    "plt.savefig(os.path.join(figurepath, 'prediction_ll_plds.pdf'))"
   ]
  },
  {
   "cell_type": "code",
   "execution_count": null,
   "metadata": {
    "collapsed": true
   },
   "outputs": [],
   "source": []
  }
 ],
 "metadata": {
  "kernelspec": {
   "display_name": "Python 3",
   "language": "python",
   "name": "python3"
  },
  "language_info": {
   "codemirror_mode": {
    "name": "ipython",
    "version": 3
   },
   "file_extension": ".py",
   "mimetype": "text/x-python",
   "name": "python",
   "nbconvert_exporter": "python",
   "pygments_lexer": "ipython3",
   "version": "3.5.0"
  }
 },
 "nbformat": 4,
 "nbformat_minor": 0
}
